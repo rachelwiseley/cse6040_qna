{
 "cells": [
  {
   "cell_type": "markdown",
   "metadata": {},
   "source": [
    "## 5. Squared Wheel and Other ReInventions"
   ]
  },
  {
   "cell_type": "markdown",
   "metadata": {
    "collapsed": true
   },
   "source": [
    "A lot of times we  hear discussions about writing programs using python in pythonic way. Although sometimes it's more of a phylosophy, quite often there might be a more concrete message. I would call it \"Not re-inventing a wheel\". Indeed, python is a wonderful language full of lots of built-in libraries. If you need anything, it most likely is implemented in the language, solution looks clean and works with good performance, and it takes nt more than a dozen lines of code to solve your problem using it.\n",
    "\n",
    "To illustrate this, let's try to solve several tasks in the most straightforward way, and then in pythonic way, to appriciate the difference."
   ]
  },
  {
   "cell_type": "markdown",
   "metadata": {},
   "source": [
    "Let's try to create a string out of words in the list. First let's do it in the most C-like way:"
   ]
  },
  {
   "cell_type": "code",
   "execution_count": 1,
   "metadata": {},
   "outputs": [
    {
     "name": "stdout",
     "output_type": "stream",
     "text": [
      "The resulting string is 'the quick brown fox jumped over the lazy dog'.\n"
     ]
    }
   ],
   "source": [
    "list_of_words = ['the', 'quick', 'brown', 'fox', 'jumped', 'over', 'the', 'lazy', 'dog']\n",
    "\n",
    "# Create a counter\n",
    "i = 0\n",
    "# Create and empty string\n",
    "new_string = ''\n",
    "while i < len(list_of_words):\n",
    "    new_string += list_of_words[i]\n",
    "    i += 1\n",
    "    # Add a space to join the words together if it's not the last word\n",
    "    if i < len(list_of_words):\n",
    "        new_string += ' '\n",
    "\n",
    "print (\"The resulting string is '\" + new_string + \"'.\")"
   ]
  },
  {
   "cell_type": "markdown",
   "metadata": {},
   "source": [
    "That's probably the closest to how you would tackle this task with C. Now let's try to iterate over the words in a more pythonic way."
   ]
  },
  {
   "cell_type": "code",
   "execution_count": 2,
   "metadata": {},
   "outputs": [
    {
     "name": "stdout",
     "output_type": "stream",
     "text": [
      "The resulting string is 'the quick brown fox jumped over the lazy dog'.\n"
     ]
    }
   ],
   "source": [
    "list_of_words = ['the', 'quick', 'brown', 'fox', 'jumped', 'over', 'the', 'lazy', 'dog']\n",
    "\n",
    "# Create a counter\n",
    "i = 0\n",
    "# Create and empty string\n",
    "new_string = ''\n",
    "# Iterate through all words\n",
    "for word in list_of_words:\n",
    "    new_string += word\n",
    "    i += 1\n",
    "    # Add a space to join the words together if it's not the last word\n",
    "    if i < len(list_of_words):\n",
    "        new_string += ' '\n",
    "\n",
    "print (\"The resulting string is '\" + new_string + \"'.\")"
   ]
  },
  {
   "cell_type": "markdown",
   "metadata": {},
   "source": [
    "Slightly cleaner, but not too much. We still need to maintain a counter to omit the last space. But we can do better!"
   ]
  },
  {
   "cell_type": "code",
   "execution_count": 3,
   "metadata": {},
   "outputs": [
    {
     "name": "stdout",
     "output_type": "stream",
     "text": [
      "The resulting string is 'the quick brown fox jumped over the lazy dog'.\n"
     ]
    }
   ],
   "source": [
    "list_of_words = ['the', 'quick', 'brown', 'fox', 'jumped', 'over', 'the', 'lazy', 'dog']\n",
    "\n",
    "# Create and empty string\n",
    "new_string = ''\n",
    "# Iterate through all words and enumerate them\n",
    "for num, word in enumerate(list_of_words):\n",
    "    new_string += word\n",
    "    # Add a space to join the words together if it's not the last word\n",
    "    if num < len(list_of_words)-1:\n",
    "        new_string += ' '\n",
    "\n",
    "print (\"The resulting string is '\" + new_string + \"'.\")"
   ]
  },
  {
   "cell_type": "markdown",
   "metadata": {},
   "source": [
    "By knowing about the **enumerate** function we could get rid of a counter. But we can do A LOT better!"
   ]
  },
  {
   "cell_type": "code",
   "execution_count": 4,
   "metadata": {},
   "outputs": [
    {
     "name": "stdout",
     "output_type": "stream",
     "text": [
      "The resulting string is 'the quick brown fox jumped over the lazy dog'.\n"
     ]
    }
   ],
   "source": [
    "list_of_words = ['the', 'quick', 'brown', 'fox', 'jumped', 'over', 'the', 'lazy', 'dog']\n",
    "new_string = ' '.join(list_of_words)\n",
    "print (\"The resulting string is '\" + new_string + \"'.\")"
   ]
  },
  {
   "cell_type": "markdown",
   "metadata": {},
   "source": [
    "Single line of code just solved the whole problem! That's the power of language!"
   ]
  },
  {
   "cell_type": "markdown",
   "metadata": {},
   "source": [
    "Now let's compute the mean of all elements in the array and the distance from the mean for every element"
   ]
  },
  {
   "cell_type": "code",
   "execution_count": 5,
   "metadata": {},
   "outputs": [
    {
     "name": "stdout",
     "output_type": "stream",
     "text": [
      "The mean of the array [1, 2, 3, 4, 5, 6] is 3.5 distances are [-2.5, -1.5, -0.5, 0.5, 1.5, 2.5]\n"
     ]
    }
   ],
   "source": [
    "array = [1, 2, 3, 4, 5, 6]\n",
    "\n",
    "mean = 0\n",
    "for i in range(len(array)):\n",
    "    mean += array[i]\n",
    "mean /= len(array)\n",
    "\n",
    "dist = []\n",
    "for i in range(len(array)):\n",
    "    dist += [array[i] - mean]\n",
    "\n",
    "print (\"The mean of the array\", array, \"is\", mean, \"distances are\", dist)"
   ]
  },
  {
   "cell_type": "markdown",
   "metadata": {},
   "source": [
    "But we can compute at least the mean way faster:"
   ]
  },
  {
   "cell_type": "code",
   "execution_count": 6,
   "metadata": {},
   "outputs": [
    {
     "name": "stdout",
     "output_type": "stream",
     "text": [
      "The mean of the array [1, 2, 3, 4, 5, 6] is 3.5 distances are [-2.5, -1.5, -0.5, 0.5, 1.5, 2.5]\n"
     ]
    }
   ],
   "source": [
    "array = [1, 2, 3, 4, 5, 6]\n",
    "\n",
    "mean = sum(array) / len(array)\n",
    "\n",
    "dist = []\n",
    "for i in range(len(array)):\n",
    "    dist += [array[i] - mean]\n",
    "\n",
    "print (\"The mean of the array\", array, \"is\", mean, \"distances are\", dist)"
   ]
  },
  {
   "cell_type": "markdown",
   "metadata": {},
   "source": [
    "Now we can try to compute distances in a more pythonic way:"
   ]
  },
  {
   "cell_type": "code",
   "execution_count": 7,
   "metadata": {},
   "outputs": [
    {
     "name": "stdout",
     "output_type": "stream",
     "text": [
      "The mean of the array [1, 2, 3, 4, 5, 6] is 3.5 distances are [-2.5, -1.5, -0.5, 0.5, 1.5, 2.5]\n"
     ]
    }
   ],
   "source": [
    "array = [1, 2, 3, 4, 5, 6]\n",
    "\n",
    "mean = sum(array) / len(array)\n",
    "\n",
    "dist = []\n",
    "for element in array:\n",
    "    dist.append(element - mean)\n",
    "\n",
    "print (\"The mean of the array\", array, \"is\", mean, \"distances are\", dist)"
   ]
  },
  {
   "cell_type": "markdown",
   "metadata": {},
   "source": [
    "Finally, we can make it even more compact with list comprehensions:"
   ]
  },
  {
   "cell_type": "code",
   "execution_count": 8,
   "metadata": {},
   "outputs": [
    {
     "name": "stdout",
     "output_type": "stream",
     "text": [
      "The mean of the array [1, 2, 3, 4, 5, 6] is 3.5 distances are [-2.5, -1.5, -0.5, 0.5, 1.5, 2.5]\n"
     ]
    }
   ],
   "source": [
    "array = [1, 2, 3, 4, 5, 6]\n",
    "\n",
    "mean = sum(array) / len(array)\n",
    "dist = [element - mean for element in array]\n",
    "\n",
    "print (\"The mean of the array\", array, \"is\", mean, \"distances are\", dist)"
   ]
  },
  {
   "cell_type": "markdown",
   "metadata": {},
   "source": [
    "Now let's try to create a new dictionary from two lists."
   ]
  },
  {
   "cell_type": "code",
   "execution_count": 9,
   "metadata": {},
   "outputs": [
    {
     "name": "stdout",
     "output_type": "stream",
     "text": [
      "Name dictionary is {'Hofstadter': 'Leonard', 'Cooper': 'Sheldon', 'Wolowitz': 'Howard', 'Koothrappali': 'Rajesh'}\n"
     ]
    }
   ],
   "source": [
    "first_names = ['Leonard', 'Sheldon', 'Howard', 'Rajesh']\n",
    "last_names = ['Hofstadter', 'Cooper', 'Wolowitz', 'Koothrappali']\n",
    "\n",
    "name_dict = {}\n",
    "for name_ind in range(len(last_names)):\n",
    "    name_dict[last_names[name_ind]] = first_names[name_ind]\n",
    "print (\"Name dictionary is\", name_dict)"
   ]
  },
  {
   "cell_type": "markdown",
   "metadata": {},
   "source": [
    "And now everything the same, but in pythonic way:"
   ]
  },
  {
   "cell_type": "code",
   "execution_count": 10,
   "metadata": {},
   "outputs": [
    {
     "name": "stdout",
     "output_type": "stream",
     "text": [
      "Name dictionary is {'Hofstadter': 'Leonard', 'Cooper': 'Sheldon', 'Wolowitz': 'Howard', 'Koothrappali': 'Rajesh'}\n"
     ]
    }
   ],
   "source": [
    "first_names = ['Leonard', 'Sheldon', 'Howard', 'Rajesh']\n",
    "last_names = ['Hofstadter', 'Cooper', 'Wolowitz', 'Koothrappali']\n",
    "\n",
    "name_dict = dict(zip(last_names, first_names))\n",
    "print (\"Name dictionary is\", name_dict)"
   ]
  }
 ],
 "metadata": {
  "kernelspec": {
   "display_name": "Python 3",
   "language": "python",
   "name": "python3"
  },
  "language_info": {
   "codemirror_mode": {
    "name": "ipython",
    "version": 3
   },
   "file_extension": ".py",
   "mimetype": "text/x-python",
   "name": "python",
   "nbconvert_exporter": "python",
   "pygments_lexer": "ipython3",
   "version": "3.6.1"
  }
 },
 "nbformat": 4,
 "nbformat_minor": 2
}
